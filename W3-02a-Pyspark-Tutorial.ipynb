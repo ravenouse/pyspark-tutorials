{
  "cells": [
    {
      "cell_type": "markdown",
      "metadata": {
        "id": "V61cIqS42Wpb"
      },
      "source": [
        "# PySpark Tutorial\n",
        "<div>\n",
        " <h2> CSCI 4283 / 5253 \n",
        "  <IMG SRC=\"https://www.colorado.edu/cs/profiles/express/themes/cuspirit/logo.png\" WIDTH=50 ALIGN=\"right\"/> </h2>\n",
        "</div>"
      ]
    },
    {
      "cell_type": "markdown",
      "metadata": {
        "id": "YbLBoUOT2Wpd"
      },
      "source": [
        "Spark was originally developed using Scala, although there are Python and Java interfaces as well. This tutorial covers [most of the RDD API](https://spark.apache.org/docs/latest/rdd-programming-guide.html#resilient-distributed-datasets-rdds) using Python bindings.\n",
        "\n",
        "You may want to consult the [PySpark manual](http://spark.apache.org/docs/2.1.0/api/python/pyspark.html) as well."
      ]
    },
    {
      "cell_type": "code",
      "source": [
        "!pip install pyspark"
      ],
      "metadata": {
        "colab": {
          "base_uri": "https://localhost:8080/"
        },
        "id": "5zj-6Y4I2hsH",
        "outputId": "f5f07f4a-f61f-46fc-ea6d-0f3989db8a0c"
      },
      "execution_count": 2,
      "outputs": [
        {
          "output_type": "stream",
          "name": "stdout",
          "text": [
            "Looking in indexes: https://pypi.org/simple, https://us-python.pkg.dev/colab-wheels/public/simple/\n",
            "Collecting pyspark\n",
            "  Downloading pyspark-3.3.0.tar.gz (281.3 MB)\n",
            "\u001b[K     |████████████████████████████████| 281.3 MB 45 kB/s \n",
            "\u001b[?25hCollecting py4j==0.10.9.5\n",
            "  Downloading py4j-0.10.9.5-py2.py3-none-any.whl (199 kB)\n",
            "\u001b[K     |████████████████████████████████| 199 kB 63.8 MB/s \n",
            "\u001b[?25hBuilding wheels for collected packages: pyspark\n",
            "  Building wheel for pyspark (setup.py) ... \u001b[?25l\u001b[?25hdone\n",
            "  Created wheel for pyspark: filename=pyspark-3.3.0-py2.py3-none-any.whl size=281764026 sha256=b9c3b210a47ab6734b8272fee32cc26b5394e7710c7e300a72abbf035c8949ae\n",
            "  Stored in directory: /root/.cache/pip/wheels/7a/8e/1b/f73a52650d2e5f337708d9f6a1750d451a7349a867f928b885\n",
            "Successfully built pyspark\n",
            "Installing collected packages: py4j, pyspark\n",
            "Successfully installed py4j-0.10.9.5 pyspark-3.3.0\n"
          ]
        }
      ]
    },
    {
      "cell_type": "code",
      "execution_count": 3,
      "metadata": {
        "jupyter": {
          "outputs_hidden": false
        },
        "id": "FEH3iYor2Wpd"
      },
      "outputs": [],
      "source": [
        "import pyspark\n",
        "from pyspark import SparkContext, SparkConf\n",
        "import numpy as np\n",
        "import operator"
      ]
    },
    {
      "cell_type": "markdown",
      "metadata": {
        "id": "E-1M34ql2Wpe"
      },
      "source": [
        "The `SparkContext` object tells Spark how to access a cluster. The `SparkConf` object defines information about our job.\n",
        "\n",
        "The `master` of a Spark configuration is the cluster (YARN or Mesos) manager. It can also be \"local\" meaning that the Spark job runs on your local machine, which is what we'll do here; the `[*]` notation means to use all the available cores. In general, you shouldn't hardcode the `master` mechanism.\n",
        "\n",
        "Spark uses a function chaining notation. We'll use that throughout unless it makes this confusing."
      ]
    },
    {
      "cell_type": "code",
      "execution_count": 4,
      "metadata": {
        "id": "RpBWTFY92Wpe"
      },
      "outputs": [],
      "source": [
        "conf=SparkConf().setAppName(\"pyspark tutorial\").setMaster(\"local[2]\")\n",
        "sc = SparkContext(conf=conf)\n",
        "#sc.setLogLevel(\"DEBUG\")"
      ]
    },
    {
      "cell_type": "markdown",
      "metadata": {
        "id": "IizPghnd2Wpe"
      },
      "source": [
        "## Create Datasets\n",
        "The basic Spark data structure is the RDD (resilient distributed data), which is essentially a vector distributed across the cluster of nodes or on the local system. In PySpark, the vector can contain a heterogenous collection of types (strings, ints, etc).\n",
        "\n",
        "You can create an RDD from a list or tuple, read it from a local file or read it from networked distributions such as HDFS or S3.\n",
        "\n",
        "The following shows creating three datasets from lists using the _parallelize_ method."
      ]
    },
    {
      "cell_type": "code",
      "execution_count": 5,
      "metadata": {
        "jupyter": {
          "outputs_hidden": false
        },
        "id": "fz4TTCK42Wpe"
      },
      "outputs": [],
      "source": [
        "a = sc.parallelize([7, 2, 3, 1, 2, 3, 4, 5, 6, 7])\n",
        "b = sc.parallelize([2, 3, 99, 22, -77])\n",
        "c = sc.parallelize([ (1,2), (2,3), (1, 99), (3, 44), (2, 1), (4,5), (3, 19) ] )"
      ]
    },
    {
      "cell_type": "code",
      "execution_count": 6,
      "metadata": {
        "colab": {
          "base_uri": "https://localhost:8080/"
        },
        "id": "P4mRlJ_O2Wpf",
        "outputId": "b89b0f25-2064-486e-96c1-992b12dc6c34"
      },
      "outputs": [
        {
          "output_type": "execute_result",
          "data": {
            "text/plain": [
              "ParallelCollectionRDD[0] at readRDDFromFile at PythonRDD.scala:274"
            ]
          },
          "metadata": {},
          "execution_count": 6
        }
      ],
      "source": [
        "a"
      ]
    },
    {
      "cell_type": "code",
      "execution_count": 7,
      "metadata": {
        "jupyter": {
          "outputs_hidden": false
        },
        "id": "fp5VIc4m2Wpf"
      },
      "outputs": [],
      "source": [
        "passwd = sc.textFile(\"/etc/passwd\")"
      ]
    },
    {
      "cell_type": "markdown",
      "metadata": {
        "id": "GpgtrWZr2Wpf"
      },
      "source": [
        "It is also possible to read and write binary data files, including data formatted in Hadoop Sequence types.\n",
        "\n",
        "Spark also supports _accumulators_ and _broadcast variables_.  Accumulators are designed to sum or aggregate values from across the cluster; they are really only suitable for commutative-associative operators. Broadcast variables are efficiently disseminated to all nodes in the cluster; they can be used for the equivilent of \"map-side joins\"."
      ]
    },
    {
      "cell_type": "markdown",
      "metadata": {
        "id": "Q7DXxab32Wpf"
      },
      "source": [
        "## Transformations and Actions\n",
        "*Transformations* produce new RDD's by transforming existing RDD's  and *Actions* convert data *to* and *from* an RDD."
      ]
    },
    {
      "cell_type": "markdown",
      "metadata": {
        "id": "tUbA-IwK2Wpg"
      },
      "source": [
        "### Actions\n",
        "\n",
        "Some of the most simple actions are:\n",
        "* count() - Return the number of items in the RDD\n",
        "* take(_n_) - Extract and return the first _n_ items from the RDD\n",
        "* first() - Same as take(1)\n",
        "* collect() - Same as take(count()) - **returns full RDD**\n",
        "* takeSample(_withReplacement_:Boolean, _num_:int, [ seed:Int] ) - extract a random set of _num_ items from the RDD with or without replacement.\n",
        "* takeOrdered( _num_ ) - extract _num_ items from the sorted RDD."
      ]
    },
    {
      "cell_type": "code",
      "execution_count": 10,
      "metadata": {
        "jupyter": {
          "outputs_hidden": false
        },
        "colab": {
          "base_uri": "https://localhost:8080/"
        },
        "id": "NnZs7NXL2Wpg",
        "outputId": "e6cee034-eb8b-4745-c012-e3393c5419bf"
      },
      "outputs": [
        {
          "output_type": "stream",
          "name": "stdout",
          "text": [
            "10\n",
            "[7, 2]\n",
            "7\n",
            "[7, 2, 3, 1, 2, 3, 4, 5, 6, 7]\n",
            "[7, 7, 7]\n",
            "[2, 4, 2]\n",
            "[1, 2, 2, 3]\n"
          ]
        }
      ],
      "source": [
        "print(a.count())\n",
        "print(a.take(2))\n",
        "print(a.first())\n",
        "print(a.collect())\n",
        "print(a.takeSample(True, 3))\n",
        "print(a.takeSample(False, 3))\n",
        "print(a.takeOrdered(4))"
      ]
    },
    {
      "cell_type": "markdown",
      "metadata": {
        "id": "Z0oAJF9X2Wpg"
      },
      "source": [
        "## Lambda Functions in Python\n",
        "\n",
        "Lambda functions, or anonymous functions are common in other languages (e.g. Scala) and commonly used in PySpark. The Python lambda is restricted to simple single-line statements."
      ]
    },
    {
      "cell_type": "code",
      "execution_count": 11,
      "metadata": {
        "colab": {
          "base_uri": "https://localhost:8080/"
        },
        "id": "ksy4EAlC2Wpg",
        "outputId": "0fab3b4f-b1c8-4ce2-db4c-294cdf869912"
      },
      "outputs": [
        {
          "output_type": "execute_result",
          "data": {
            "text/plain": [
              "2"
            ]
          },
          "metadata": {},
          "execution_count": 11
        }
      ],
      "source": [
        "(lambda x: x + x)(1)"
      ]
    },
    {
      "cell_type": "code",
      "execution_count": 12,
      "metadata": {
        "colab": {
          "base_uri": "https://localhost:8080/"
        },
        "id": "JVT3TxpZ2Wpg",
        "outputId": "3277d245-8161-41a0-94d8-1c610afad5cc"
      },
      "outputs": [
        {
          "output_type": "execute_result",
          "data": {
            "text/plain": [
              "<function __main__.<lambda>(x)>"
            ]
          },
          "metadata": {},
          "execution_count": 12
        }
      ],
      "source": [
        "lambda x: x + 1"
      ]
    },
    {
      "cell_type": "code",
      "execution_count": 13,
      "metadata": {
        "colab": {
          "base_uri": "https://localhost:8080/"
        },
        "id": "sQpqJ1ve2Wpg",
        "outputId": "6e39427b-9bf8-4d56-ae32-60fcd1386f7f"
      },
      "outputs": [
        {
          "output_type": "execute_result",
          "data": {
            "text/plain": [
              "5"
            ]
          },
          "metadata": {},
          "execution_count": 13
        }
      ],
      "source": [
        "add2 = lambda x: x + 2\n",
        "add2(3)"
      ]
    },
    {
      "cell_type": "markdown",
      "metadata": {
        "id": "-dhMiykh2Wph"
      },
      "source": [
        "## Map, Reduce & flatMap\n",
        "\n",
        "`map` is a transformation that produces a new RDD. `reduce` is an action that applies a specified function to the elements of an RDD. Map is applied using a single-argument (unary) function (often a *lambda*) while reduce takes a binary (or dyadic) function.\n",
        "\n",
        "Examples:"
      ]
    },
    {
      "cell_type": "code",
      "execution_count": 14,
      "metadata": {
        "colab": {
          "base_uri": "https://localhost:8080/"
        },
        "id": "TImT5JgQ2Wph",
        "outputId": "66341dc9-04b1-4f98-86d1-edfc11662d7d"
      },
      "outputs": [
        {
          "output_type": "execute_result",
          "data": {
            "text/plain": [
              "[7, 2, 3, 1, 2, 3, 4, 5, 6, 7]"
            ]
          },
          "metadata": {},
          "execution_count": 14
        }
      ],
      "source": [
        "a.collect()"
      ]
    },
    {
      "cell_type": "code",
      "execution_count": 15,
      "metadata": {
        "jupyter": {
          "outputs_hidden": false
        },
        "colab": {
          "base_uri": "https://localhost:8080/"
        },
        "id": "QOWRq3aO2Wph",
        "outputId": "63b2d6fe-0245-4441-8dee-043e47d541a8"
      },
      "outputs": [
        {
          "output_type": "execute_result",
          "data": {
            "text/plain": [
              "[49, 4, 9, 1, 4, 9, 16, 25, 36, 49]"
            ]
          },
          "metadata": {},
          "execution_count": 15
        }
      ],
      "source": [
        "a.map( lambda x: x**2 ).collect()"
      ]
    },
    {
      "cell_type": "code",
      "source": [
        "a.collect()"
      ],
      "metadata": {
        "colab": {
          "base_uri": "https://localhost:8080/"
        },
        "id": "nY_4_Kpj5uE3",
        "outputId": "f7307b51-d84b-4eb4-ef48-df82e6d7a149"
      },
      "execution_count": 16,
      "outputs": [
        {
          "output_type": "execute_result",
          "data": {
            "text/plain": [
              "[7, 2, 3, 1, 2, 3, 4, 5, 6, 7]"
            ]
          },
          "metadata": {},
          "execution_count": 16
        }
      ]
    },
    {
      "cell_type": "markdown",
      "metadata": {
        "id": "Wzz2S-pA2Wph"
      },
      "source": [
        "**reduce** does a reduction for a function across the RDD. For example, the `operator.add` function in Python is the function that impements addition, so we can reduce an RDD using:"
      ]
    },
    {
      "cell_type": "code",
      "execution_count": 17,
      "metadata": {
        "colab": {
          "base_uri": "https://localhost:8080/"
        },
        "id": "Ya5vjLcS2Wph",
        "outputId": "f8a749ba-a5fa-4295-f670-2890b0f358c2"
      },
      "outputs": [
        {
          "output_type": "execute_result",
          "data": {
            "text/plain": [
              "40"
            ]
          },
          "metadata": {},
          "execution_count": 17
        }
      ],
      "source": [
        "a.reduce(operator.add)"
      ]
    },
    {
      "cell_type": "code",
      "source": [
        "a.count()"
      ],
      "metadata": {
        "colab": {
          "base_uri": "https://localhost:8080/"
        },
        "id": "obcW_h3E6H-Z",
        "outputId": "aa998cd4-116e-4a4c-b40f-d5a445d54a55"
      },
      "execution_count": 18,
      "outputs": [
        {
          "output_type": "execute_result",
          "data": {
            "text/plain": [
              "10"
            ]
          },
          "metadata": {},
          "execution_count": 18
        }
      ]
    },
    {
      "cell_type": "markdown",
      "metadata": {
        "id": "OvcNPJR62Wpi"
      },
      "source": [
        "The following `lambda` sums the first and second element of the tuples in `c`"
      ]
    },
    {
      "cell_type": "code",
      "execution_count": 20,
      "metadata": {
        "colab": {
          "base_uri": "https://localhost:8080/"
        },
        "id": "QbQDgJ3E2Wpi",
        "outputId": "035ed87c-47a1-4ab8-f92a-601ba9c113bf"
      },
      "outputs": [
        {
          "output_type": "execute_result",
          "data": {
            "text/plain": [
              "[(1, 2), (2, 3), (1, 99), (3, 44), (2, 1), (4, 5), (3, 19)]"
            ]
          },
          "metadata": {},
          "execution_count": 20
        }
      ],
      "source": [
        "c.collect()"
      ]
    },
    {
      "cell_type": "code",
      "execution_count": 21,
      "metadata": {
        "jupyter": {
          "outputs_hidden": false
        },
        "colab": {
          "base_uri": "https://localhost:8080/"
        },
        "id": "Z9YcD8-a2Wpi",
        "outputId": "16a1659c-b660-487d-a5ad-464febd69b36"
      },
      "outputs": [
        {
          "output_type": "execute_result",
          "data": {
            "text/plain": [
              "(16, 173)"
            ]
          },
          "metadata": {},
          "execution_count": 21
        }
      ],
      "source": [
        "c.reduce( lambda x,y: (x[0] + y[0], x[1] + y[1]) )"
      ]
    },
    {
      "cell_type": "markdown",
      "metadata": {
        "id": "_bRZDLIn2Wpi"
      },
      "source": [
        "That should produce the same result as the more complex example\n",
        "below, which returns an RDD for each field of the tuple and then\n",
        "adds those those using reduce. The operator.add function is \"+\""
      ]
    },
    {
      "cell_type": "code",
      "execution_count": 22,
      "metadata": {
        "jupyter": {
          "outputs_hidden": false
        },
        "colab": {
          "base_uri": "https://localhost:8080/"
        },
        "id": "LSsrnCZ22Wpi",
        "outputId": "fd27ee5b-55c1-470d-8e27-d2c6f466d02e"
      },
      "outputs": [
        {
          "output_type": "execute_result",
          "data": {
            "text/plain": [
              "(16, 173)"
            ]
          },
          "metadata": {},
          "execution_count": 22
        }
      ],
      "source": [
        "( c.map( lambda x : x[0] ).reduce(operator.add), \n",
        "  c.map( lambda x: x[1] ).reduce(operator.add) )"
      ]
    },
    {
      "cell_type": "markdown",
      "metadata": {
        "id": "fV5lSEUO2Wpi"
      },
      "source": [
        "**flatMap** applies a map operation across elements of a list, but then takes those elements and *appends* them to the list. The result is useful when processing a set of tuples or breaking documents into words and then processing the words rather than lines-of-words."
      ]
    },
    {
      "cell_type": "code",
      "execution_count": 23,
      "metadata": {
        "jupyter": {
          "outputs_hidden": false
        },
        "id": "cNT2-S1b2Wpj"
      },
      "outputs": [],
      "source": [
        "sent = sc.parallelize([\"these are some\", \"sample words\" ])"
      ]
    },
    {
      "cell_type": "code",
      "execution_count": 24,
      "metadata": {
        "colab": {
          "base_uri": "https://localhost:8080/"
        },
        "id": "j_SXGWE12Wpj",
        "outputId": "b1f8852c-5d9d-4e3f-812f-c0b813d5e879"
      },
      "outputs": [
        {
          "output_type": "execute_result",
          "data": {
            "text/plain": [
              "['these are some', 'sample words']"
            ]
          },
          "metadata": {},
          "execution_count": 24
        }
      ],
      "source": [
        "sent.collect()"
      ]
    },
    {
      "cell_type": "code",
      "execution_count": 25,
      "metadata": {
        "jupyter": {
          "outputs_hidden": false
        },
        "colab": {
          "base_uri": "https://localhost:8080/"
        },
        "id": "P04MwOXR2Wpj",
        "outputId": "6e868765-1bcf-4a0a-dc4f-ec62f45e2781"
      },
      "outputs": [
        {
          "output_type": "execute_result",
          "data": {
            "text/plain": [
              "[['these', 'are', 'some'], ['sample', 'words']]"
            ]
          },
          "metadata": {},
          "execution_count": 25
        }
      ],
      "source": [
        "sent.map( lambda x : x.split() ).collect()"
      ]
    },
    {
      "cell_type": "code",
      "execution_count": 26,
      "metadata": {
        "jupyter": {
          "outputs_hidden": false
        },
        "colab": {
          "base_uri": "https://localhost:8080/"
        },
        "id": "xfAlkzvQ2Wpj",
        "outputId": "17faa7f2-cf8d-474a-841f-d6f9d7020349"
      },
      "outputs": [
        {
          "output_type": "execute_result",
          "data": {
            "text/plain": [
              "['these', 'are', 'some', 'sample', 'words']"
            ]
          },
          "metadata": {},
          "execution_count": 26
        }
      ],
      "source": [
        "sent.flatMap( lambda x : x.split() ).collect()"
      ]
    },
    {
      "cell_type": "markdown",
      "metadata": {
        "id": "WlAOu3lW2Wpj"
      },
      "source": [
        "## Filter, Sampling & Sorting\n",
        "\n",
        "Filter can be used to remove or filter items from an RDD"
      ]
    },
    {
      "cell_type": "code",
      "execution_count": 27,
      "metadata": {
        "jupyter": {
          "outputs_hidden": false
        },
        "colab": {
          "base_uri": "https://localhost:8080/"
        },
        "id": "KkRzoUG82Wpj",
        "outputId": "c6077309-87f3-4350-fce4-0780ef37e6fe"
      },
      "outputs": [
        {
          "output_type": "stream",
          "name": "stdout",
          "text": [
            "[7, 2, 3, 1, 2, 3, 4, 5, 6, 7]\n",
            "[2, 2, 4, 6]\n"
          ]
        }
      ],
      "source": [
        "isEven = lambda x: x %2 == 0\n",
        "\n",
        "print(a.collect())\n",
        "print(a.filter(isEven).collect())"
      ]
    },
    {
      "cell_type": "code",
      "source": [
        "passwd"
      ],
      "metadata": {
        "colab": {
          "base_uri": "https://localhost:8080/"
        },
        "id": "gMwdd0F_7HuI",
        "outputId": "6cd1316c-3f15-4f5c-dc22-e9fc0999eb8b"
      },
      "execution_count": 29,
      "outputs": [
        {
          "output_type": "execute_result",
          "data": {
            "text/plain": [
              "/etc/passwd MapPartitionsRDD[4] at textFile at NativeMethodAccessorImpl.java:0"
            ]
          },
          "metadata": {},
          "execution_count": 29
        }
      ]
    },
    {
      "cell_type": "code",
      "execution_count": 28,
      "metadata": {
        "jupyter": {
          "outputs_hidden": false
        },
        "colab": {
          "base_uri": "https://localhost:8080/"
        },
        "id": "-FgZ9rjq2Wpj",
        "outputId": "63d518cc-a04d-4353-ce0a-54aaf656d474"
      },
      "outputs": [
        {
          "output_type": "execute_result",
          "data": {
            "text/plain": [
              "[['root', 'x', '0', '0', 'root', '/root', '/bin/bash']]"
            ]
          },
          "metadata": {},
          "execution_count": 28
        }
      ],
      "source": [
        "passwd.map( lambda x : x.split(':' ) )\\\n",
        "   .filter( lambda x : x[0] == 'root' )\\\n",
        "   .collect()"
      ]
    },
    {
      "cell_type": "markdown",
      "metadata": {
        "id": "xCgqTalm2Wpk"
      },
      "source": [
        "If we want to get a representative sample of the data, we can use **takeSample** to sample (and collect) that data or **sample** to get an RDD. The first argument determines if we sample with replacement (true) or not."
      ]
    },
    {
      "cell_type": "code",
      "source": [
        "a.collect()"
      ],
      "metadata": {
        "colab": {
          "base_uri": "https://localhost:8080/"
        },
        "id": "3IT3Giau8ALr",
        "outputId": "f5f71f85-1ed4-4791-af02-65df1bd5faa8"
      },
      "execution_count": 37,
      "outputs": [
        {
          "output_type": "execute_result",
          "data": {
            "text/plain": [
              "[7, 2, 3, 1, 2, 3, 4, 5, 6, 7]"
            ]
          },
          "metadata": {},
          "execution_count": 37
        }
      ]
    },
    {
      "cell_type": "code",
      "execution_count": 30,
      "metadata": {
        "colab": {
          "base_uri": "https://localhost:8080/"
        },
        "id": "mbOFNRd42Wpk",
        "outputId": "9526260d-fad1-4a36-b398-2a2da296ec17"
      },
      "outputs": [
        {
          "output_type": "execute_result",
          "data": {
            "text/plain": [
              "[2, 1, 2]"
            ]
          },
          "metadata": {},
          "execution_count": 30
        }
      ],
      "source": [
        "a.takeSample(True, 3)"
      ]
    },
    {
      "cell_type": "code",
      "execution_count": 43,
      "metadata": {
        "colab": {
          "base_uri": "https://localhost:8080/"
        },
        "id": "82STcGsO2Wpk",
        "outputId": "dfa99ce4-0b61-497c-a6b5-b888e94e5145"
      },
      "outputs": [
        {
          "output_type": "execute_result",
          "data": {
            "text/plain": [
              "[2, 2, 2, 3, 3, 3, 3, 1, 2, 2, 3, 5, 5, 6, 6, 6, 7, 7, 7, 7, 7]"
            ]
          },
          "metadata": {},
          "execution_count": 43
        }
      ],
      "source": [
        "a.sample(True, 2).collect()"
      ]
    },
    {
      "cell_type": "markdown",
      "metadata": {
        "id": "vpKD1Njh2Wpk"
      },
      "source": [
        "If you're examining data using **take** but you want to access the underlying data in a sorted order you can use **takeOrdered**. "
      ]
    },
    {
      "cell_type": "code",
      "execution_count": 32,
      "metadata": {
        "colab": {
          "base_uri": "https://localhost:8080/"
        },
        "id": "DNY89gwO2Wpk",
        "outputId": "63b85b3c-7877-4ae4-b763-1e4fac235e60"
      },
      "outputs": [
        {
          "output_type": "execute_result",
          "data": {
            "text/plain": [
              "[7, 2, 3, 1, 2, 3, 4, 5, 6, 7]"
            ]
          },
          "metadata": {},
          "execution_count": 32
        }
      ],
      "source": [
        "a.collect()"
      ]
    },
    {
      "cell_type": "code",
      "execution_count": 33,
      "metadata": {
        "colab": {
          "base_uri": "https://localhost:8080/"
        },
        "id": "_y-ziOg42Wpk",
        "outputId": "f06a5c7d-3501-4f89-da39-4960aa27657b"
      },
      "outputs": [
        {
          "output_type": "execute_result",
          "data": {
            "text/plain": [
              "[7, 2, 3, 1]"
            ]
          },
          "metadata": {},
          "execution_count": 33
        }
      ],
      "source": [
        "a.take(4)"
      ]
    },
    {
      "cell_type": "code",
      "execution_count": 34,
      "metadata": {
        "colab": {
          "base_uri": "https://localhost:8080/"
        },
        "id": "rzRtYMIY2Wpk",
        "outputId": "c1bc5c18-427a-4116-f41b-f8a88d4437c8"
      },
      "outputs": [
        {
          "output_type": "execute_result",
          "data": {
            "text/plain": [
              "[1, 2, 2, 3]"
            ]
          },
          "metadata": {},
          "execution_count": 34
        }
      ],
      "source": [
        "a.takeOrdered(4)"
      ]
    },
    {
      "cell_type": "markdown",
      "metadata": {
        "id": "nJDfc8bx2Wpk"
      },
      "source": [
        "You can also use **takeOrdered** with more complex pairs if you provide an ordering function. For example, we can sort (K,V) pairs using the extra function to define the order:"
      ]
    },
    {
      "cell_type": "code",
      "execution_count": 44,
      "metadata": {
        "colab": {
          "base_uri": "https://localhost:8080/"
        },
        "id": "dRjIrqgv2Wpl",
        "outputId": "66e095a0-3b91-4e5f-97ae-768b7d08a0fb"
      },
      "outputs": [
        {
          "output_type": "execute_result",
          "data": {
            "text/plain": [
              "[(1, 2), (2, 3), (1, 99), (3, 44), (2, 1), (4, 5), (3, 19)]"
            ]
          },
          "metadata": {},
          "execution_count": 44
        }
      ],
      "source": [
        "c.collect()"
      ]
    },
    {
      "cell_type": "markdown",
      "metadata": {
        "id": "i2e5C0Fv2Wpl"
      },
      "source": [
        "The default **takeOrdered** uses the sort-order of the type, which sorts on the keys (and the values if equal keys)."
      ]
    },
    {
      "cell_type": "code",
      "execution_count": 45,
      "metadata": {
        "colab": {
          "base_uri": "https://localhost:8080/"
        },
        "id": "tK7VGsEX2Wpl",
        "outputId": "599eb716-8929-49f7-9520-8c132f4feee9"
      },
      "outputs": [
        {
          "output_type": "execute_result",
          "data": {
            "text/plain": [
              "[(1, 2), (1, 99), (2, 1)]"
            ]
          },
          "metadata": {},
          "execution_count": 45
        }
      ],
      "source": [
        "c.takeOrdered(3)"
      ]
    },
    {
      "cell_type": "markdown",
      "metadata": {
        "id": "ah6nLvxH2Wpl"
      },
      "source": [
        "We can provide an ordering function as a lambda or function of a single argument. We can also sort in reverse order.\n"
      ]
    },
    {
      "cell_type": "code",
      "execution_count": 46,
      "metadata": {
        "colab": {
          "base_uri": "https://localhost:8080/"
        },
        "id": "_NnFELJ52Wpl",
        "outputId": "085fc8d6-1228-45d4-b564-caa87ecef2c3"
      },
      "outputs": [
        {
          "output_type": "execute_result",
          "data": {
            "text/plain": [
              "[(2, 1), (1, 2), (2, 3)]"
            ]
          },
          "metadata": {},
          "execution_count": 46
        }
      ],
      "source": [
        "c.takeOrdered(3, lambda x: x[1])"
      ]
    },
    {
      "cell_type": "code",
      "execution_count": 47,
      "metadata": {
        "colab": {
          "base_uri": "https://localhost:8080/"
        },
        "id": "AKZtYJNP2Wpl",
        "outputId": "d0632df7-6308-46dc-b45a-07dbc7265123"
      },
      "outputs": [
        {
          "output_type": "execute_result",
          "data": {
            "text/plain": [
              "[(1, 99), (3, 44), (3, 19)]"
            ]
          },
          "metadata": {},
          "execution_count": 47
        }
      ],
      "source": [
        "c.takeOrdered(3, lambda x: -x[1])"
      ]
    },
    {
      "cell_type": "markdown",
      "metadata": {
        "id": "pRwbdsK_2Wpl"
      },
      "source": [
        "**sortBy** and **sortByKey** serve a similar role as takeOrdered but completely sorts an RDD rather than the just the returned results."
      ]
    },
    {
      "cell_type": "code",
      "execution_count": 48,
      "metadata": {
        "jupyter": {
          "outputs_hidden": false
        },
        "id": "2ynxYpXL2Wpl"
      },
      "outputs": [],
      "source": [
        "passwdLines = open('/etc/passwd', 'r').readlines()\n",
        "passwd = sc.parallelize( passwdLines )"
      ]
    },
    {
      "cell_type": "code",
      "source": [
        "passwd.collect()"
      ],
      "metadata": {
        "colab": {
          "base_uri": "https://localhost:8080/"
        },
        "id": "Ge87YiNe8fc1",
        "outputId": "cf5f781a-68c9-496f-b7fd-a9e8f91e79d1"
      },
      "execution_count": 50,
      "outputs": [
        {
          "output_type": "execute_result",
          "data": {
            "text/plain": [
              "['root:x:0:0:root:/root:/bin/bash\\n',\n",
              " 'daemon:x:1:1:daemon:/usr/sbin:/usr/sbin/nologin\\n',\n",
              " 'bin:x:2:2:bin:/bin:/usr/sbin/nologin\\n',\n",
              " 'sys:x:3:3:sys:/dev:/usr/sbin/nologin\\n',\n",
              " 'sync:x:4:65534:sync:/bin:/bin/sync\\n',\n",
              " 'games:x:5:60:games:/usr/games:/usr/sbin/nologin\\n',\n",
              " 'man:x:6:12:man:/var/cache/man:/usr/sbin/nologin\\n',\n",
              " 'lp:x:7:7:lp:/var/spool/lpd:/usr/sbin/nologin\\n',\n",
              " 'mail:x:8:8:mail:/var/mail:/usr/sbin/nologin\\n',\n",
              " 'news:x:9:9:news:/var/spool/news:/usr/sbin/nologin\\n',\n",
              " 'uucp:x:10:10:uucp:/var/spool/uucp:/usr/sbin/nologin\\n',\n",
              " 'proxy:x:13:13:proxy:/bin:/usr/sbin/nologin\\n',\n",
              " 'www-data:x:33:33:www-data:/var/www:/usr/sbin/nologin\\n',\n",
              " 'backup:x:34:34:backup:/var/backups:/usr/sbin/nologin\\n',\n",
              " 'list:x:38:38:Mailing List Manager:/var/list:/usr/sbin/nologin\\n',\n",
              " 'irc:x:39:39:ircd:/var/run/ircd:/usr/sbin/nologin\\n',\n",
              " 'gnats:x:41:41:Gnats Bug-Reporting System (admin):/var/lib/gnats:/usr/sbin/nologin\\n',\n",
              " 'nobody:x:65534:65534:nobody:/nonexistent:/usr/sbin/nologin\\n',\n",
              " '_apt:x:100:65534::/nonexistent:/usr/sbin/nologin\\n',\n",
              " 'systemd-network:x:101:104:systemd Network Management,,,:/run/systemd/netif:/usr/sbin/nologin\\n',\n",
              " 'systemd-resolve:x:102:105:systemd Resolver,,,:/run/systemd/resolve:/usr/sbin/nologin\\n',\n",
              " 'messagebus:x:103:107::/nonexistent:/usr/sbin/nologin\\n',\n",
              " 'nvidia-persistenced:x:104:108:NVIDIA Persistence Daemon,,,:/nonexistent:/usr/sbin/nologin\\n']"
            ]
          },
          "metadata": {},
          "execution_count": 50
        }
      ]
    },
    {
      "cell_type": "code",
      "execution_count": 51,
      "metadata": {
        "jupyter": {
          "outputs_hidden": false
        },
        "colab": {
          "base_uri": "https://localhost:8080/"
        },
        "id": "gDxT-MRA2Wpl",
        "outputId": "1edd2b6b-533f-47bb-cf4e-673ee70d8c2d"
      },
      "outputs": [
        {
          "output_type": "execute_result",
          "data": {
            "text/plain": [
              "[('root', '/bin/bash'),\n",
              " ('daemon', '/usr/sbin/nologin'),\n",
              " ('bin', '/usr/sbin/nologin'),\n",
              " ('sys', '/usr/sbin/nologin'),\n",
              " ('sync', '/bin/sync'),\n",
              " ('games', '/usr/sbin/nologin'),\n",
              " ('man', '/usr/sbin/nologin'),\n",
              " ('lp', '/usr/sbin/nologin'),\n",
              " ('mail', '/usr/sbin/nologin'),\n",
              " ('news', '/usr/sbin/nologin'),\n",
              " ('uucp', '/usr/sbin/nologin'),\n",
              " ('proxy', '/usr/sbin/nologin'),\n",
              " ('www-data', '/usr/sbin/nologin'),\n",
              " ('backup', '/usr/sbin/nologin'),\n",
              " ('list', '/usr/sbin/nologin'),\n",
              " ('irc', '/usr/sbin/nologin'),\n",
              " ('gnats', '/usr/sbin/nologin'),\n",
              " ('nobody', '/usr/sbin/nologin'),\n",
              " ('_apt', '/usr/sbin/nologin'),\n",
              " ('systemd-network', '/usr/sbin/nologin'),\n",
              " ('systemd-resolve', '/usr/sbin/nologin'),\n",
              " ('messagebus', '/usr/sbin/nologin'),\n",
              " ('nvidia-persistenced', '/usr/sbin/nologin')]"
            ]
          },
          "metadata": {},
          "execution_count": 51
        }
      ],
      "source": [
        "userAndShell = passwd.map( lambda x: x.rstrip('\\n').split(':') )\\\n",
        "    .map( lambda y: ( y[0], y[6] ) )\n",
        "userAndShell.collect()"
      ]
    },
    {
      "cell_type": "markdown",
      "metadata": {
        "id": "DxjbjnrF2Wpm"
      },
      "source": [
        "`sortBy( cmp: Func, ascending: Boolean)` takes a function that returns the sort key."
      ]
    },
    {
      "cell_type": "code",
      "execution_count": 52,
      "metadata": {
        "jupyter": {
          "outputs_hidden": false
        },
        "colab": {
          "base_uri": "https://localhost:8080/"
        },
        "id": "txMnj4Pi2Wpm",
        "outputId": "9e20970b-5add-46d5-d8de-a588452d901f"
      },
      "outputs": [
        {
          "output_type": "execute_result",
          "data": {
            "text/plain": [
              "[('root', '/bin/bash'),\n",
              " ('daemon', '/usr/sbin/nologin'),\n",
              " ('bin', '/usr/sbin/nologin')]"
            ]
          },
          "metadata": {},
          "execution_count": 52
        }
      ],
      "source": [
        "userAndShell.take(3)"
      ]
    },
    {
      "cell_type": "code",
      "execution_count": 53,
      "metadata": {
        "jupyter": {
          "outputs_hidden": false
        },
        "colab": {
          "base_uri": "https://localhost:8080/"
        },
        "id": "QsnckrpQ2Wpm",
        "outputId": "531f094a-243f-4695-aa63-dabdd8416cab"
      },
      "outputs": [
        {
          "output_type": "execute_result",
          "data": {
            "text/plain": [
              "[('_apt', '/usr/sbin/nologin'),\n",
              " ('backup', '/usr/sbin/nologin'),\n",
              " ('bin', '/usr/sbin/nologin')]"
            ]
          },
          "metadata": {},
          "execution_count": 53
        }
      ],
      "source": [
        "userAndShell.sortBy(lambda x : x[0] ).take(3)"
      ]
    },
    {
      "cell_type": "code",
      "execution_count": 54,
      "metadata": {
        "jupyter": {
          "outputs_hidden": false
        },
        "colab": {
          "base_uri": "https://localhost:8080/"
        },
        "id": "KkTABX2d2Wpm",
        "outputId": "18351bea-dbe7-4dbd-820e-712dcdb4ab0b"
      },
      "outputs": [
        {
          "output_type": "execute_result",
          "data": {
            "text/plain": [
              "[('root', '/bin/bash'), ('sync', '/bin/sync'), ('daemon', '/usr/sbin/nologin')]"
            ]
          },
          "metadata": {},
          "execution_count": 54
        }
      ],
      "source": [
        "userAndShell.sortBy(lambda x : x[1] ).take(3)"
      ]
    },
    {
      "cell_type": "markdown",
      "metadata": {
        "id": "mURXzHpo2Wpm"
      },
      "source": [
        "`sortByKey( ascending: Boolean)` assumes the data is in (k,v) pairs. In this case, the example is the same as sortByUser above."
      ]
    },
    {
      "cell_type": "code",
      "execution_count": 55,
      "metadata": {
        "jupyter": {
          "outputs_hidden": false
        },
        "colab": {
          "base_uri": "https://localhost:8080/"
        },
        "id": "c3oliuE42Wpm",
        "outputId": "8cc7289d-577b-49e5-8129-193a70417e40"
      },
      "outputs": [
        {
          "output_type": "execute_result",
          "data": {
            "text/plain": [
              "[('_apt', '/usr/sbin/nologin'),\n",
              " ('backup', '/usr/sbin/nologin'),\n",
              " ('bin', '/usr/sbin/nologin')]"
            ]
          },
          "metadata": {},
          "execution_count": 55
        }
      ],
      "source": [
        "userAndShell.sortByKey().take(3)"
      ]
    },
    {
      "cell_type": "markdown",
      "metadata": {
        "id": "yVJdDWy02Wpm"
      },
      "source": [
        "## Set Operations\n",
        "\n",
        "**union** and **intersection** produce new RDD's where the elements can be thought of as being in a set. **distinct** returns the unique set of items in an RDD (*i.e.* converting a multi-set to a set). **sample**(withReplacement:Boolean, fraction:Float, [seed:int]) draws samples with or without replacement. Sample produces more representative samples with larger datasets and has seemingly erratic behavior with small sets."
      ]
    },
    {
      "cell_type": "code",
      "execution_count": 56,
      "metadata": {
        "jupyter": {
          "outputs_hidden": false
        },
        "colab": {
          "base_uri": "https://localhost:8080/"
        },
        "id": "1j7p7veM2Wpm",
        "outputId": "648b6884-1fab-4117-d28c-90b75bc3f952"
      },
      "outputs": [
        {
          "output_type": "execute_result",
          "data": {
            "text/plain": [
              "[7, 2, 3, 1, 2, 3, 4, 5, 6, 7]"
            ]
          },
          "metadata": {},
          "execution_count": 56
        }
      ],
      "source": [
        "a.collect()"
      ]
    },
    {
      "cell_type": "code",
      "execution_count": 57,
      "metadata": {
        "jupyter": {
          "outputs_hidden": false
        },
        "colab": {
          "base_uri": "https://localhost:8080/"
        },
        "id": "4N7SFDXl2Wpn",
        "outputId": "edd7fb31-508f-42bd-f0bc-271f8d9c9ea0"
      },
      "outputs": [
        {
          "output_type": "execute_result",
          "data": {
            "text/plain": [
              "[2, 3, 99, 22, -77]"
            ]
          },
          "metadata": {},
          "execution_count": 57
        }
      ],
      "source": [
        "b.collect()"
      ]
    },
    {
      "cell_type": "code",
      "execution_count": 58,
      "metadata": {
        "jupyter": {
          "outputs_hidden": false
        },
        "colab": {
          "base_uri": "https://localhost:8080/"
        },
        "id": "NDDwQ_CR2Wpn",
        "outputId": "be5a87cc-87d4-46e0-d041-78c3ffdb7088"
      },
      "outputs": [
        {
          "output_type": "execute_result",
          "data": {
            "text/plain": [
              "[7, 2, 3, 1, 2, 3, 4, 5, 6, 7, 2, 3, 99, 22, -77]"
            ]
          },
          "metadata": {},
          "execution_count": 58
        }
      ],
      "source": [
        "a.union(b).collect()"
      ]
    },
    {
      "cell_type": "code",
      "execution_count": 59,
      "metadata": {
        "jupyter": {
          "outputs_hidden": false
        },
        "colab": {
          "base_uri": "https://localhost:8080/"
        },
        "id": "llMyhOku2Wpn",
        "outputId": "9daf8ac8-4bdd-4077-b78f-c5bcb6aa551d"
      },
      "outputs": [
        {
          "output_type": "execute_result",
          "data": {
            "text/plain": [
              "[2, 3]"
            ]
          },
          "metadata": {},
          "execution_count": 59
        }
      ],
      "source": [
        "a.intersection(b).collect()"
      ]
    },
    {
      "cell_type": "markdown",
      "metadata": {
        "id": "3fWFhmCi2Wpn"
      },
      "source": [
        "`subtract` removes items from the RDD that are contained in a second RDD"
      ]
    },
    {
      "cell_type": "code",
      "execution_count": 60,
      "metadata": {
        "jupyter": {
          "outputs_hidden": false
        },
        "colab": {
          "base_uri": "https://localhost:8080/"
        },
        "id": "a-iaArJa2Wpn",
        "outputId": "bfc3dbd4-40e1-477e-d1ab-8d0b7b24c3ac"
      },
      "outputs": [
        {
          "output_type": "stream",
          "name": "stdout",
          "text": [
            "[7, 2, 3, 1, 2, 3, 4, 5, 6, 7]  -  [2, 3, 99, 22, -77]  =  [4, 1, 5, 6, 7, 7]\n"
          ]
        }
      ],
      "source": [
        "print(a.collect(), \" - \", b.collect(), \" = \", a.subtract(b).collect())"
      ]
    },
    {
      "cell_type": "code",
      "execution_count": 61,
      "metadata": {
        "jupyter": {
          "outputs_hidden": false
        },
        "colab": {
          "base_uri": "https://localhost:8080/"
        },
        "id": "SIlvUlow2Wpn",
        "outputId": "2a66e821-e69a-4a51-b525-6a80534ca857"
      },
      "outputs": [
        {
          "output_type": "execute_result",
          "data": {
            "text/plain": [
              "[2, 4, 6, 7, 3, 1, 5]"
            ]
          },
          "metadata": {},
          "execution_count": 61
        }
      ],
      "source": [
        "a.distinct().collect()"
      ]
    },
    {
      "cell_type": "code",
      "execution_count": null,
      "metadata": {
        "id": "MDWewbTv2Wpn"
      },
      "outputs": [],
      "source": []
    }
  ],
  "metadata": {
    "kernelspec": {
      "display_name": "Python 3 (ipykernel)",
      "language": "python",
      "name": "python3"
    },
    "language_info": {
      "codemirror_mode": {
        "name": "ipython",
        "version": 3
      },
      "file_extension": ".py",
      "mimetype": "text/x-python",
      "name": "python",
      "nbconvert_exporter": "python",
      "pygments_lexer": "ipython3",
      "version": "3.9.6"
    },
    "colab": {
      "provenance": []
    }
  },
  "nbformat": 4,
  "nbformat_minor": 0
}