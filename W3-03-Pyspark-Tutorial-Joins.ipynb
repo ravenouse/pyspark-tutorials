{
  "cells": [
    {
      "cell_type": "markdown",
      "metadata": {
        "id": "M95b9g_o-6tc"
      },
      "source": [
        "# PySpark Tutorial - Joins\n",
        "<div>\n",
        " <h2> CSCI 4253 / 5253 \n",
        "  <IMG SRC=\"https://www.colorado.edu/cs/profiles/express/themes/cuspirit/logo.png\" WIDTH=50 ALIGN=\"right\"/> </h2>\n",
        "</div>"
      ]
    },
    {
      "cell_type": "code",
      "source": [
        "!pip install pyspark"
      ],
      "metadata": {
        "id": "k0EhXGbq-9Qg",
        "outputId": "4c4bab48-203e-4b1f-c191-e3cb7e3075ae",
        "colab": {
          "base_uri": "https://localhost:8080/"
        }
      },
      "execution_count": 1,
      "outputs": [
        {
          "output_type": "stream",
          "name": "stdout",
          "text": [
            "Looking in indexes: https://pypi.org/simple, https://us-python.pkg.dev/colab-wheels/public/simple/\n",
            "Collecting pyspark\n",
            "  Downloading pyspark-3.3.0.tar.gz (281.3 MB)\n",
            "\u001b[K     |████████████████████████████████| 281.3 MB 49 kB/s \n",
            "\u001b[?25hCollecting py4j==0.10.9.5\n",
            "  Downloading py4j-0.10.9.5-py2.py3-none-any.whl (199 kB)\n",
            "\u001b[K     |████████████████████████████████| 199 kB 36.2 MB/s \n",
            "\u001b[?25hBuilding wheels for collected packages: pyspark\n",
            "  Building wheel for pyspark (setup.py) ... \u001b[?25l\u001b[?25hdone\n",
            "  Created wheel for pyspark: filename=pyspark-3.3.0-py2.py3-none-any.whl size=281764026 sha256=f95cc6f0d2f6e9fa49d2969e542d6fb4d835312f0182827aaac9d4421b528f4b\n",
            "  Stored in directory: /root/.cache/pip/wheels/7a/8e/1b/f73a52650d2e5f337708d9f6a1750d451a7349a867f928b885\n",
            "Successfully built pyspark\n",
            "Installing collected packages: py4j, pyspark\n",
            "Successfully installed py4j-0.10.9.5 pyspark-3.3.0\n"
          ]
        }
      ]
    },
    {
      "cell_type": "code",
      "execution_count": 2,
      "metadata": {
        "jupyter": {
          "outputs_hidden": false
        },
        "id": "a72O1lW_-6te"
      },
      "outputs": [],
      "source": [
        "from pyspark import SparkContext, SparkConf\n",
        "import numpy as np\n",
        "import operator"
      ]
    },
    {
      "cell_type": "code",
      "execution_count": 3,
      "metadata": {
        "id": "ASJLXcmW-6tf"
      },
      "outputs": [],
      "source": [
        "conf=SparkConf().setAppName(\"pyspark tutorial\").setMaster(\"local[*]\")\n",
        "sc = SparkContext(conf=conf)"
      ]
    },
    {
      "cell_type": "markdown",
      "metadata": {
        "id": "3NA27lR3-6tg"
      },
      "source": [
        "## Key Value Data, Grouping and Joins"
      ]
    },
    {
      "cell_type": "markdown",
      "metadata": {
        "id": "rQvDWsaU-6tg"
      },
      "source": [
        "The Key-Value or (k,v) datatype is fundemental to many operations including grouping and joins. We need to be able to:\n",
        "* Create keys from non-KV data\n",
        "* Group or organize data according to keys\n",
        "* Operate on data according to keys\n",
        "* Form standard joins"
      ]
    },
    {
      "cell_type": "markdown",
      "metadata": {
        "id": "GntQtaVf-6tg"
      },
      "source": [
        "### Creating Key-Pair Values"
      ]
    },
    {
      "cell_type": "markdown",
      "metadata": {
        "id": "zkJ69_tJ-6th"
      },
      "source": [
        "We can directly create K-V pairs using lists of pairs"
      ]
    },
    {
      "cell_type": "code",
      "execution_count": 8,
      "metadata": {
        "id": "hnNHnaBx-6ti"
      },
      "outputs": [],
      "source": [
        "visits = sc.parallelize([ (\"index.html\", \"1.2.3.4\"),\n",
        "                         (\"about.html\", \"3.4.5.6\"),\n",
        "                         (\"index.html\", \"1.3.3.1\"),\n",
        "                        (\"index.html\", \"2.2.2.2\")])\n",
        "\n",
        "pageNames = sc.parallelize([ (\"index.html\", \"Home\"),\n",
        "                            (\"about.html\", \"About\") ])"
      ]
    },
    {
      "cell_type": "markdown",
      "metadata": {
        "id": "5IpMQruo-6ti"
      },
      "source": [
        "When we `collect()` the K-V pairs, we'll get the full list of keys -- this pulls the data to the front-end machine:"
      ]
    },
    {
      "cell_type": "code",
      "execution_count": 9,
      "metadata": {
        "id": "j33tY5el-6tj",
        "outputId": "6f39df5c-2368-4a32-b8bd-c768300543f2",
        "colab": {
          "base_uri": "https://localhost:8080/"
        }
      },
      "outputs": [
        {
          "output_type": "execute_result",
          "data": {
            "text/plain": [
              "[('index.html', '1.2.3.4'),\n",
              " ('about.html', '3.4.5.6'),\n",
              " ('index.html', '1.3.3.1'),\n",
              " ('index.html', '2.2.2.2')]"
            ]
          },
          "metadata": {},
          "execution_count": 9
        }
      ],
      "source": [
        "visits.collect()"
      ]
    },
    {
      "cell_type": "markdown",
      "metadata": {
        "id": "oFvcjOdv-6tk"
      },
      "source": [
        "The first position of the K-V pair is the key. We'll cover grouping in more detail later, but let's take a look at grouping visits by the keys:"
      ]
    },
    {
      "cell_type": "code",
      "execution_count": 10,
      "metadata": {
        "id": "cAAVObKW-6tk",
        "outputId": "6d95d24a-875c-408c-c84a-72b74f2b4f7a",
        "colab": {
          "base_uri": "https://localhost:8080/"
        }
      },
      "outputs": [
        {
          "output_type": "execute_result",
          "data": {
            "text/plain": [
              "[('about.html', <pyspark.resultiterable.ResultIterable at 0x7fc7b08cb190>),\n",
              " ('index.html', <pyspark.resultiterable.ResultIterable at 0x7fc7b08cb1d0>)]"
            ]
          },
          "metadata": {},
          "execution_count": 10
        }
      ],
      "source": [
        "visits.groupByKey().collect()"
      ]
    },
    {
      "cell_type": "markdown",
      "metadata": {
        "id": "7OK0jCFo-6tl"
      },
      "source": [
        "The KV pairs have now been *grouped* meaning that we have an RDD of all the keys and the values for each key are a \"list\" of of the values corresponding to that key in the original KV RDD. Because the values are scattered across your cluster, a `ResultIterable` is used to represented their distributed type.\n",
        "\n",
        "We reify the results by converting it to a list. You wouldn't do this in practice because this brings all the values back to the front-end machine across the whole networking, but lets see what this produces to understand what `groupByKey` is doing.\n",
        "\n",
        "We'll `map` a lambda function that simply \"flattens\" the items by converting the `ResultIterable` into a list."
      ]
    },
    {
      "cell_type": "code",
      "execution_count": 13,
      "metadata": {
        "id": "YL5AYUMW-6tl",
        "outputId": "0dc06c63-c1cc-4fc1-87ad-3e802004bb26",
        "colab": {
          "base_uri": "https://localhost:8080/"
        }
      },
      "outputs": [
        {
          "output_type": "execute_result",
          "data": {
            "text/plain": [
              "[('about.html', ['3.4.5.6']),\n",
              " ('index.html', ['1.2.3.4', '1.3.3.1', '2.2.2.2'])]"
            ]
          },
          "metadata": {},
          "execution_count": 13
        }
      ],
      "source": [
        "visits.groupByKey().map(lambda x: (x[0], list(x[1]))).collect()"
      ]
    },
    {
      "cell_type": "markdown",
      "metadata": {
        "id": "BbapywK5-6tm"
      },
      "source": [
        "When we `map` across a grouped KV the mapped function takes an argument which is the pair \"(key, value\") -- that's why we're referring to `x[0]` for the value and `x[1]` for the value in the sample `map`.\n",
        "\n",
        "It's more typicaly that you want to just `map` across the values and there is a corresponding `mapValues` function that does precisely this. In the example below, we are mapping `list` across the values in the groups. The results should be the same as the "
      ]
    },
    {
      "cell_type": "code",
      "execution_count": 14,
      "metadata": {
        "id": "tqtPvuXA-6tm",
        "outputId": "8078317b-082c-484f-956e-926e7a09fa62",
        "colab": {
          "base_uri": "https://localhost:8080/"
        }
      },
      "outputs": [
        {
          "output_type": "execute_result",
          "data": {
            "text/plain": [
              "[('about.html', ['3.4.5.6']),\n",
              " ('index.html', ['1.2.3.4', '1.3.3.1', '2.2.2.2'])]"
            ]
          },
          "metadata": {},
          "execution_count": 14
        }
      ],
      "source": [
        "visits.groupByKey().mapValues(list).collect()"
      ]
    },
    {
      "cell_type": "markdown",
      "metadata": {
        "id": "3S2JG-9I-6tm"
      },
      "source": [
        "`keyBy` is a function to efficiently create a key-value pair from an RDD. The elements of the original RDD are the \"values\" and a function provides the associated key.\n",
        "\n",
        "For example, assume we want $K = V^2$ for values $V$ in an RDD:"
      ]
    },
    {
      "cell_type": "code",
      "execution_count": 15,
      "metadata": {
        "jupyter": {
          "outputs_hidden": false
        },
        "id": "knKEf9g_-6tn",
        "outputId": "51234856-e557-4d7f-f72c-70cefb6524f5",
        "colab": {
          "base_uri": "https://localhost:8080/"
        }
      },
      "outputs": [
        {
          "output_type": "execute_result",
          "data": {
            "text/plain": [
              "[0, 1, 2, 3, 4, 5, 6, 7, 8, 9, 0, 1, 2, 3]"
            ]
          },
          "metadata": {},
          "execution_count": 15
        }
      ],
      "source": [
        "r = sc.parallelize( [0, 1, 2, 3, 4, 5, 6, 7, 8, 9, 0, 1, 2, 3] )\n",
        "r.collect()"
      ]
    },
    {
      "cell_type": "code",
      "execution_count": 16,
      "metadata": {
        "jupyter": {
          "outputs_hidden": false
        },
        "id": "coXIOtaW-6to",
        "outputId": "d80a6635-7eef-4e99-d25b-2dc3d5735b59",
        "colab": {
          "base_uri": "https://localhost:8080/"
        }
      },
      "outputs": [
        {
          "output_type": "execute_result",
          "data": {
            "text/plain": [
              "[(0, 0),\n",
              " (1, 1),\n",
              " (4, 2),\n",
              " (9, 3),\n",
              " (16, 4),\n",
              " (25, 5),\n",
              " (36, 6),\n",
              " (49, 7),\n",
              " (64, 8),\n",
              " (81, 9),\n",
              " (0, 0),\n",
              " (1, 1),\n",
              " (4, 2),\n",
              " (9, 3)]"
            ]
          },
          "metadata": {},
          "execution_count": 16
        }
      ],
      "source": [
        "rsq = r.keyBy(lambda x : x*x)\n",
        "rsq.collect()"
      ]
    },
    {
      "cell_type": "markdown",
      "metadata": {
        "id": "KhFSQQji-6to"
      },
      "source": [
        "For example, we might want to create keys for the **passwd** data using the shell name"
      ]
    },
    {
      "cell_type": "code",
      "execution_count": 17,
      "metadata": {
        "id": "9-SxHCLs-6to"
      },
      "outputs": [],
      "source": [
        "passwd = sc.textFile(\"/etc/passwd\")"
      ]
    },
    {
      "cell_type": "markdown",
      "metadata": {
        "id": "4VKg7aMP-6tp"
      },
      "source": [
        "The password is the 7th field (6th index)  in the `/etc/passwd` file:"
      ]
    },
    {
      "cell_type": "code",
      "execution_count": 22,
      "metadata": {
        "id": "8HTMckiE-6tp",
        "outputId": "f4e9b7ed-bba4-434b-8788-6ab7d43cba2a",
        "colab": {
          "base_uri": "https://localhost:8080/"
        }
      },
      "outputs": [
        {
          "output_type": "execute_result",
          "data": {
            "text/plain": [
              "['root', 'x', '0', '0', 'root', '/root', '/bin/bash']"
            ]
          },
          "metadata": {},
          "execution_count": 22
        }
      ],
      "source": [
        "passwd.take(1)[0].split(':')"
      ]
    },
    {
      "cell_type": "markdown",
      "metadata": {
        "id": "kxEtnDMD-6tp"
      },
      "source": [
        "Thus, if we want the `key` to be the 6th element, we provide a function that extracts that from each entry:"
      ]
    },
    {
      "cell_type": "code",
      "execution_count": 19,
      "metadata": {
        "jupyter": {
          "outputs_hidden": false
        },
        "id": "AlgRug4N-6tp",
        "outputId": "4cb55c41-3829-4452-aecc-b660cd2f009b",
        "colab": {
          "base_uri": "https://localhost:8080/"
        }
      },
      "outputs": [
        {
          "output_type": "execute_result",
          "data": {
            "text/plain": [
              "[('/bin/bash', 'root:x:0:0:root:/root:/bin/bash'),\n",
              " ('/usr/sbin/nologin', 'daemon:x:1:1:daemon:/usr/sbin:/usr/sbin/nologin'),\n",
              " ('/usr/sbin/nologin', 'bin:x:2:2:bin:/bin:/usr/sbin/nologin')]"
            ]
          },
          "metadata": {},
          "execution_count": 19
        }
      ],
      "source": [
        "byShell = passwd.keyBy( lambda x : x.split(':')[6] )\n",
        "byShell.take(3)"
      ]
    },
    {
      "cell_type": "markdown",
      "metadata": {
        "id": "55_9czx8-6tq"
      },
      "source": [
        "This is more or less equivilent to a `map` that returns pairs of values. For example:"
      ]
    },
    {
      "cell_type": "code",
      "execution_count": 23,
      "metadata": {
        "jupyter": {
          "outputs_hidden": false
        },
        "id": "vuNxz8wA-6tq",
        "outputId": "3864debe-7d76-4fe0-9361-fdcf6fda7073",
        "colab": {
          "base_uri": "https://localhost:8080/"
        }
      },
      "outputs": [
        {
          "output_type": "execute_result",
          "data": {
            "text/plain": [
              "[('/bin/bash', 'root:x:0:0:root:/root:/bin/bash'),\n",
              " ('/usr/sbin/nologin', 'daemon:x:1:1:daemon:/usr/sbin:/usr/sbin/nologin'),\n",
              " ('/usr/sbin/nologin', 'bin:x:2:2:bin:/bin:/usr/sbin/nologin')]"
            ]
          },
          "metadata": {},
          "execution_count": 23
        }
      ],
      "source": [
        "passwd.map( lambda x : (x.split(':')[6], x) ).take(3)"
      ]
    },
    {
      "cell_type": "markdown",
      "metadata": {
        "id": "CjcL5nog-6tq"
      },
      "source": [
        "### Using Key-Value Pairs\n",
        "\n",
        "We can return a dictionary containing the number of logins using each shell using the `countByKey` function:"
      ]
    },
    {
      "cell_type": "code",
      "execution_count": 24,
      "metadata": {
        "jupyter": {
          "outputs_hidden": false
        },
        "id": "2R-3SW8c-6tq",
        "outputId": "eaa867fc-0a62-48c9-ff9c-0f01f0a3d3bb",
        "colab": {
          "base_uri": "https://localhost:8080/"
        }
      },
      "outputs": [
        {
          "output_type": "execute_result",
          "data": {
            "text/plain": [
              "defaultdict(int, {'/bin/bash': 1, '/usr/sbin/nologin': 21, '/bin/sync': 1})"
            ]
          },
          "metadata": {},
          "execution_count": 24
        }
      ],
      "source": [
        "byShell.countByKey()"
      ]
    },
    {
      "cell_type": "markdown",
      "metadata": {
        "id": "y52zoFU7-6tq"
      },
      "source": [
        "And we can extract keys and values in parallel across the cluster:"
      ]
    },
    {
      "cell_type": "code",
      "execution_count": 25,
      "metadata": {
        "jupyter": {
          "outputs_hidden": false
        },
        "id": "RHkmLW7_-6tr",
        "outputId": "0c0ada7f-32b6-4746-9b6c-aab9b3d837ac",
        "colab": {
          "base_uri": "https://localhost:8080/"
        }
      },
      "outputs": [
        {
          "output_type": "execute_result",
          "data": {
            "text/plain": [
              "['/bin/bash', '/usr/sbin/nologin', '/usr/sbin/nologin']"
            ]
          },
          "metadata": {},
          "execution_count": 25
        }
      ],
      "source": [
        "shellKeys = byShell.keys()\n",
        "shellKeys.take(3)"
      ]
    },
    {
      "cell_type": "code",
      "execution_count": 26,
      "metadata": {
        "jupyter": {
          "outputs_hidden": false
        },
        "id": "EGANJSoR-6tr",
        "outputId": "1994a5ec-44c6-42a1-ac7c-9a28ea32b0f9",
        "colab": {
          "base_uri": "https://localhost:8080/"
        }
      },
      "outputs": [
        {
          "output_type": "execute_result",
          "data": {
            "text/plain": [
              "['root:x:0:0:root:/root:/bin/bash',\n",
              " 'daemon:x:1:1:daemon:/usr/sbin:/usr/sbin/nologin',\n",
              " 'bin:x:2:2:bin:/bin:/usr/sbin/nologin']"
            ]
          },
          "metadata": {},
          "execution_count": 26
        }
      ],
      "source": [
        "byShell.values().take(3)"
      ]
    },
    {
      "cell_type": "markdown",
      "metadata": {
        "id": "rtUkrV4m-6tr"
      },
      "source": [
        "## Grouping and Joins"
      ]
    },
    {
      "cell_type": "markdown",
      "metadata": {
        "id": "ueZMGx9P-6tr"
      },
      "source": [
        "Once you have (k,v) pairs, you can group the key -- the values are iterable ( distributed lists) of the values for that key. Earlier, we shows that you can `map` a function over the `ResultIterable` -- it's unlikely you want want to return them to a native `list` because that will pull all the values back to the front end machine."
      ]
    },
    {
      "cell_type": "code",
      "execution_count": 27,
      "metadata": {
        "jupyter": {
          "outputs_hidden": false
        },
        "id": "Gq1h3MCM-6tr",
        "outputId": "a717f202-1630-4c2a-8cb2-3048fbd0b229",
        "colab": {
          "base_uri": "https://localhost:8080/"
        }
      },
      "outputs": [
        {
          "output_type": "execute_result",
          "data": {
            "text/plain": [
              "[('/bin/bash', <pyspark.resultiterable.ResultIterable at 0x7fc7b12f3410>),\n",
              " ('/usr/sbin/nologin',\n",
              "  <pyspark.resultiterable.ResultIterable at 0x7fc7b07f4890>),\n",
              " ('/bin/sync', <pyspark.resultiterable.ResultIterable at 0x7fc7b12f3b90>)]"
            ]
          },
          "metadata": {},
          "execution_count": 27
        }
      ],
      "source": [
        "byShell.groupByKey().take(3)"
      ]
    },
    {
      "cell_type": "markdown",
      "metadata": {
        "id": "PvEluc5T-6ts"
      },
      "source": [
        "We can also group KV pairs by other attributes using the groupBy() method. For example, here we're going to group the password data by the user name (the 0'th field of the values)"
      ]
    },
    {
      "cell_type": "code",
      "execution_count": 28,
      "metadata": {
        "id": "3h38dD9J-6ts",
        "outputId": "63b11084-d111-4ef5-e440-7de4870c58e5",
        "colab": {
          "base_uri": "https://localhost:8080/"
        }
      },
      "outputs": [
        {
          "output_type": "execute_result",
          "data": {
            "text/plain": [
              "[('/bin/bash', 'root:x:0:0:root:/root:/bin/bash'),\n",
              " ('/usr/sbin/nologin', 'daemon:x:1:1:daemon:/usr/sbin:/usr/sbin/nologin'),\n",
              " ('/usr/sbin/nologin', 'bin:x:2:2:bin:/bin:/usr/sbin/nologin')]"
            ]
          },
          "metadata": {},
          "execution_count": 28
        }
      ],
      "source": [
        "byShell.take(3)"
      ]
    },
    {
      "cell_type": "code",
      "execution_count": 29,
      "metadata": {
        "jupyter": {
          "outputs_hidden": false
        },
        "id": "Gh_SjV9q-6ts"
      },
      "outputs": [],
      "source": [
        "def getLogin(x):\n",
        "    return x.split(':')[0]"
      ]
    },
    {
      "cell_type": "code",
      "source": [
        "byShell.map(lambda x : getLogin(x[1])).take(3)"
      ],
      "metadata": {
        "id": "CRHd6PQxCdW6",
        "outputId": "e0718cd3-87ed-421e-eae7-f2555eb94e5a",
        "colab": {
          "base_uri": "https://localhost:8080/"
        }
      },
      "execution_count": 38,
      "outputs": [
        {
          "output_type": "execute_result",
          "data": {
            "text/plain": [
              "['root', 'daemon', 'bin']"
            ]
          },
          "metadata": {},
          "execution_count": 38
        }
      ]
    },
    {
      "cell_type": "code",
      "execution_count": 30,
      "metadata": {
        "jupyter": {
          "outputs_hidden": false
        },
        "id": "CLUzMkjp-6ts",
        "outputId": "cd1d541b-2849-46dc-bcf9-49be3237894b",
        "colab": {
          "base_uri": "https://localhost:8080/"
        }
      },
      "outputs": [
        {
          "output_type": "execute_result",
          "data": {
            "text/plain": [
              "[('root', <pyspark.resultiterable.ResultIterable at 0x7fc7a8665690>),\n",
              " ('daemon', <pyspark.resultiterable.ResultIterable at 0x7fc7a8665190>),\n",
              " ('sync', <pyspark.resultiterable.ResultIterable at 0x7fc7a8665550>)]"
            ]
          },
          "metadata": {},
          "execution_count": 30
        }
      ],
      "source": [
        "byShell.groupBy (lambda x : getLogin(x[1]) ).take(3)"
      ]
    },
    {
      "cell_type": "markdown",
      "metadata": {
        "id": "_UALpcSs-6ts"
      },
      "source": [
        "Once items are grouped, you can iterate over the values associated with a key.\n",
        "\n",
        "Let's group the `/etc/passwd` entries by the shell."
      ]
    },
    {
      "cell_type": "code",
      "execution_count": 39,
      "metadata": {
        "jupyter": {
          "outputs_hidden": false
        },
        "id": "Lxykt_kY-6tt",
        "outputId": "9c797c53-db2b-4c80-b2cd-c9a0cbfb67dc",
        "colab": {
          "base_uri": "https://localhost:8080/"
        }
      },
      "outputs": [
        {
          "output_type": "execute_result",
          "data": {
            "text/plain": [
              "[('/bin/bash', <pyspark.resultiterable.ResultIterable at 0x7fc7a8ca2d90>),\n",
              " ('/usr/sbin/nologin',\n",
              "  <pyspark.resultiterable.ResultIterable at 0x7fc7b1356f10>),\n",
              " ('/bin/sync', <pyspark.resultiterable.ResultIterable at 0x7fc7b07f4510>)]"
            ]
          },
          "metadata": {},
          "execution_count": 39
        }
      ],
      "source": [
        "grpdShell = byShell.groupByKey()\n",
        "grpdShell.take(3)"
      ]
    },
    {
      "cell_type": "markdown",
      "metadata": {
        "id": "LWJunJXz-6tt"
      },
      "source": [
        "Now the key are differ Unix shells (*e.g.* `/bin/bash`) and the values are `ResultIterable`s of the values having that key in the original KV list."
      ]
    },
    {
      "cell_type": "markdown",
      "metadata": {
        "id": "p1ffaAwt-6tt"
      },
      "source": [
        "Again, we typically wouldn't want to pull in all the value using a `list` because this will bring everything to the front-end machine in the cluster. But, let's convert the `ResultIterable` to a list just to see the structure:"
      ]
    },
    {
      "cell_type": "code",
      "execution_count": 40,
      "metadata": {
        "id": "Fnskd6wn-6tt",
        "outputId": "441ee612-a48f-455b-fe4b-6f3a91fdd8fc",
        "colab": {
          "base_uri": "https://localhost:8080/"
        }
      },
      "outputs": [
        {
          "output_type": "execute_result",
          "data": {
            "text/plain": [
              "[('/bin/bash', ['root:x:0:0:root:/root:/bin/bash']),\n",
              " ('/usr/sbin/nologin',\n",
              "  ['daemon:x:1:1:daemon:/usr/sbin:/usr/sbin/nologin',\n",
              "   'bin:x:2:2:bin:/bin:/usr/sbin/nologin',\n",
              "   'sys:x:3:3:sys:/dev:/usr/sbin/nologin',\n",
              "   'games:x:5:60:games:/usr/games:/usr/sbin/nologin',\n",
              "   'man:x:6:12:man:/var/cache/man:/usr/sbin/nologin',\n",
              "   'lp:x:7:7:lp:/var/spool/lpd:/usr/sbin/nologin',\n",
              "   'mail:x:8:8:mail:/var/mail:/usr/sbin/nologin',\n",
              "   'news:x:9:9:news:/var/spool/news:/usr/sbin/nologin',\n",
              "   'uucp:x:10:10:uucp:/var/spool/uucp:/usr/sbin/nologin',\n",
              "   'proxy:x:13:13:proxy:/bin:/usr/sbin/nologin',\n",
              "   'www-data:x:33:33:www-data:/var/www:/usr/sbin/nologin',\n",
              "   'backup:x:34:34:backup:/var/backups:/usr/sbin/nologin',\n",
              "   'list:x:38:38:Mailing List Manager:/var/list:/usr/sbin/nologin',\n",
              "   'irc:x:39:39:ircd:/var/run/ircd:/usr/sbin/nologin',\n",
              "   'gnats:x:41:41:Gnats Bug-Reporting System (admin):/var/lib/gnats:/usr/sbin/nologin',\n",
              "   'nobody:x:65534:65534:nobody:/nonexistent:/usr/sbin/nologin',\n",
              "   '_apt:x:100:65534::/nonexistent:/usr/sbin/nologin',\n",
              "   'systemd-network:x:101:104:systemd Network Management,,,:/run/systemd/netif:/usr/sbin/nologin',\n",
              "   'systemd-resolve:x:102:105:systemd Resolver,,,:/run/systemd/resolve:/usr/sbin/nologin',\n",
              "   'messagebus:x:103:107::/nonexistent:/usr/sbin/nologin',\n",
              "   'nvidia-persistenced:x:104:108:NVIDIA Persistence Daemon,,,:/nonexistent:/usr/sbin/nologin']),\n",
              " ('/bin/sync', ['sync:x:4:65534:sync:/bin:/bin/sync'])]"
            ]
          },
          "metadata": {},
          "execution_count": 40
        }
      ],
      "source": [
        "grpdShell.map(lambda x: (x[0], list(x[1])) ).take(3)"
      ]
    },
    {
      "cell_type": "markdown",
      "metadata": {
        "id": "S__o0pGy-6tt"
      },
      "source": [
        "The better way to process this would be to would `map` a function over each KV pair in the grouped list. The key is `x[0]` and the `ResultIterable` is `x[1]`. We can then map a function over each of the  `ResultIterable` to extract some field, such as the login information."
      ]
    },
    {
      "cell_type": "code",
      "execution_count": 47,
      "metadata": {
        "id": "0y1P_1g3-6tt",
        "outputId": "3e3d709c-3108-4e57-e237-5e7ed7718e85",
        "colab": {
          "base_uri": "https://localhost:8080/"
        }
      },
      "outputs": [
        {
          "output_type": "execute_result",
          "data": {
            "text/plain": [
              "[('/bin/bash', ['root:x:0:0:root:/root:/bin/bash']),\n",
              " ('/usr/sbin/nologin',\n",
              "  ['daemon:x:1:1:daemon:/usr/sbin:/usr/sbin/nologin',\n",
              "   'bin:x:2:2:bin:/bin:/usr/sbin/nologin',\n",
              "   'sys:x:3:3:sys:/dev:/usr/sbin/nologin',\n",
              "   'games:x:5:60:games:/usr/games:/usr/sbin/nologin',\n",
              "   'man:x:6:12:man:/var/cache/man:/usr/sbin/nologin',\n",
              "   'lp:x:7:7:lp:/var/spool/lpd:/usr/sbin/nologin',\n",
              "   'mail:x:8:8:mail:/var/mail:/usr/sbin/nologin',\n",
              "   'news:x:9:9:news:/var/spool/news:/usr/sbin/nologin',\n",
              "   'uucp:x:10:10:uucp:/var/spool/uucp:/usr/sbin/nologin',\n",
              "   'proxy:x:13:13:proxy:/bin:/usr/sbin/nologin',\n",
              "   'www-data:x:33:33:www-data:/var/www:/usr/sbin/nologin',\n",
              "   'backup:x:34:34:backup:/var/backups:/usr/sbin/nologin',\n",
              "   'list:x:38:38:Mailing List Manager:/var/list:/usr/sbin/nologin',\n",
              "   'irc:x:39:39:ircd:/var/run/ircd:/usr/sbin/nologin',\n",
              "   'gnats:x:41:41:Gnats Bug-Reporting System (admin):/var/lib/gnats:/usr/sbin/nologin',\n",
              "   'nobody:x:65534:65534:nobody:/nonexistent:/usr/sbin/nologin',\n",
              "   '_apt:x:100:65534::/nonexistent:/usr/sbin/nologin',\n",
              "   'systemd-network:x:101:104:systemd Network Management,,,:/run/systemd/netif:/usr/sbin/nologin',\n",
              "   'systemd-resolve:x:102:105:systemd Resolver,,,:/run/systemd/resolve:/usr/sbin/nologin',\n",
              "   'messagebus:x:103:107::/nonexistent:/usr/sbin/nologin',\n",
              "   'nvidia-persistenced:x:104:108:NVIDIA Persistence Daemon,,,:/nonexistent:/usr/sbin/nologin']),\n",
              " ('/bin/sync', ['sync:x:4:65534:sync:/bin:/bin/sync'])]"
            ]
          },
          "metadata": {},
          "execution_count": 47
        }
      ],
      "source": [
        "grpdShell.mapValues(list).take(3)"
      ]
    },
    {
      "cell_type": "code",
      "execution_count": 42,
      "metadata": {
        "jupyter": {
          "outputs_hidden": false
        },
        "id": "0HGxIuOV-6tu"
      },
      "outputs": [],
      "source": [
        "shellAndLogins = grpdShell.map( \n",
        "    lambda x: (x[0], \",\".join( [ getLogin(y) for y in x[1] ]) ))"
      ]
    },
    {
      "cell_type": "code",
      "execution_count": 43,
      "metadata": {
        "jupyter": {
          "outputs_hidden": false
        },
        "id": "WXRPabfr-6tu",
        "outputId": "8304dcda-ebd6-49bf-e48a-c55acf9eaf60",
        "colab": {
          "base_uri": "https://localhost:8080/"
        }
      },
      "outputs": [
        {
          "output_type": "execute_result",
          "data": {
            "text/plain": [
              "[('/bin/bash', 'root'),\n",
              " ('/usr/sbin/nologin',\n",
              "  'daemon,bin,sys,games,man,lp,mail,news,uucp,proxy,www-data,backup,list,irc,gnats,nobody,_apt,systemd-network,systemd-resolve,messagebus,nvidia-persistenced'),\n",
              " ('/bin/sync', 'sync')]"
            ]
          },
          "metadata": {},
          "execution_count": 43
        }
      ],
      "source": [
        "shellAndLogins.take(3)"
      ]
    },
    {
      "cell_type": "markdown",
      "metadata": {
        "id": "ij-0xLCM-6tu"
      },
      "source": [
        "Rather than first group the keys and then combine the values into the string above, we can use **foldByKey** to do more or less the same thing -- this combines the mapping phase implicit in the list comprehension above."
      ]
    },
    {
      "cell_type": "code",
      "execution_count": 48,
      "metadata": {
        "jupyter": {
          "outputs_hidden": false
        },
        "id": "bk5TyCO_-6tu",
        "outputId": "c2ae0374-c7d5-4df4-c18e-bc25670e43df",
        "colab": {
          "base_uri": "https://localhost:8080/"
        }
      },
      "outputs": [
        {
          "output_type": "execute_result",
          "data": {
            "text/plain": [
              "[('/bin/bash', 'root,'),\n",
              " ('/usr/sbin/nologin',\n",
              "  'daemon,bin,sys,games,man,lp,mail,news,uucp,proxy,www-data,backup,list,irc,gnats,nobody,_apt,systemd-network,systemd-resolve,messagebus,nvidia-persistenced,,'),\n",
              " ('/bin/sync', 'sync,')]"
            ]
          },
          "metadata": {},
          "execution_count": 48
        }
      ],
      "source": [
        "byShell.foldByKey( \"\", lambda x,y: x + getLogin(y) + ',' ).collect()"
      ]
    },
    {
      "cell_type": "markdown",
      "metadata": {
        "id": "K_NsOHvU-6tu"
      },
      "source": [
        "Internally, this is done using a \"combiner(createCombiner, mergeValue, mergeCombiners)\", which turns an RDD[(K, V)] into a result of type RDD[(K, C)], for a \"combined type\" C.  Note that V and C can be different -- for example, one might group an RDD of type (Int, Int) into an RDD of type (Int, List[Int]).\n",
        "\n",
        "This example takes the byShell (K,V) list and constructs a new V that is the name of the users of that shell. Entries within the same RDD partition are joined by a comma and between partitions by \"AND\"."
      ]
    },
    {
      "cell_type": "code",
      "execution_count": 49,
      "metadata": {
        "jupyter": {
          "outputs_hidden": false
        },
        "id": "qCgH-Bi2-6tu",
        "outputId": "f74be5a4-1530-4c60-e795-ebba757b660d",
        "colab": {
          "base_uri": "https://localhost:8080/"
        }
      },
      "outputs": [
        {
          "output_type": "execute_result",
          "data": {
            "text/plain": [
              "[('/bin/bash', 'root'),\n",
              " ('/usr/sbin/nologin',\n",
              "  'daemon,bin,sys,games,man,lp,mail,news,uucp,proxy,www-data,backup AND list,irc,gnats,nobody,_apt,systemd-network,systemd-resolve,messagebus,nvidia-persistenced'),\n",
              " ('/bin/sync', 'sync')]"
            ]
          },
          "metadata": {},
          "execution_count": 49
        }
      ],
      "source": [
        "byShell.combineByKey( getLogin,\n",
        "                        lambda xs, x: xs + ',' + getLogin(x),\n",
        "                        lambda xs, ys: xs + ' AND ' + ys ).collect()"
      ]
    },
    {
      "cell_type": "markdown",
      "metadata": {
        "id": "_tiLjkcU-6tv"
      },
      "source": [
        "**combineByKey** is used to develop \"reduceByKey\" functions that can e.g. sum up the items associated with a key. This is effectively doing a **groupByKey** followed by a **reduce** on each list of values"
      ]
    },
    {
      "cell_type": "code",
      "execution_count": 50,
      "metadata": {
        "jupyter": {
          "outputs_hidden": false
        },
        "id": "Z9CyLRM7-6tv"
      },
      "outputs": [],
      "source": [
        "c = sc.parallelize([ (1,2), (2,3), (1, 99), (3, 44), (2, 1), (4,5), (3, 19) ] )"
      ]
    },
    {
      "cell_type": "markdown",
      "metadata": {
        "id": "HVF7BQaB-6tv"
      },
      "source": [
        "The `groupByKey` operator gives us `iterable` items."
      ]
    },
    {
      "cell_type": "code",
      "execution_count": 51,
      "metadata": {
        "id": "tOqLYyAy-6tv",
        "outputId": "c2ba393d-4c05-4e0b-af87-3248459c1af8",
        "colab": {
          "base_uri": "https://localhost:8080/"
        }
      },
      "outputs": [
        {
          "output_type": "execute_result",
          "data": {
            "text/plain": [
              "[(2, <pyspark.resultiterable.ResultIterable at 0x7fc7a805c250>),\n",
              " (4, <pyspark.resultiterable.ResultIterable at 0x7fc7a805c810>),\n",
              " (1, <pyspark.resultiterable.ResultIterable at 0x7fc7a805c750>),\n",
              " (3, <pyspark.resultiterable.ResultIterable at 0x7fc7a805c890>)]"
            ]
          },
          "metadata": {},
          "execution_count": 51
        }
      ],
      "source": [
        "c.groupByKey().collect()"
      ]
    },
    {
      "cell_type": "markdown",
      "metadata": {
        "id": "qszd2zfD-6tv"
      },
      "source": [
        "We can reify (make concrete) the iterable item by convert it to a list:"
      ]
    },
    {
      "cell_type": "code",
      "execution_count": 52,
      "metadata": {
        "jupyter": {
          "outputs_hidden": false
        },
        "id": "HYyPUGOh-6tv",
        "outputId": "8b6f74d2-3ece-400d-8524-e692b6ebdb29",
        "colab": {
          "base_uri": "https://localhost:8080/"
        }
      },
      "outputs": [
        {
          "output_type": "execute_result",
          "data": {
            "text/plain": [
              "[(2, [3, 1]), (4, [5]), (1, [2, 99]), (3, [44, 19])]"
            ]
          },
          "metadata": {},
          "execution_count": 52
        }
      ],
      "source": [
        "c.groupByKey().map(lambda x : (x[0], list(x[1]))).collect()"
      ]
    },
    {
      "cell_type": "markdown",
      "metadata": {
        "id": "Tk5_iErR-6tw"
      },
      "source": [
        "The `reduceByKey` groups identical keys and then applys a function over the iterable results."
      ]
    },
    {
      "cell_type": "code",
      "execution_count": 53,
      "metadata": {
        "jupyter": {
          "outputs_hidden": false
        },
        "id": "tX7MRHhm-6tw",
        "outputId": "7f883524-0c04-443d-e1ee-c7944acf632a",
        "colab": {
          "base_uri": "https://localhost:8080/"
        }
      },
      "outputs": [
        {
          "output_type": "execute_result",
          "data": {
            "text/plain": [
              "[(2, 4), (4, 5), (1, 101), (3, 63)]"
            ]
          },
          "metadata": {},
          "execution_count": 53
        }
      ],
      "source": [
        "c.reduceByKey( operator.add ).collect()"
      ]
    },
    {
      "cell_type": "markdown",
      "metadata": {
        "id": "JZiguFBm-6tw"
      },
      "source": [
        "## CoGroup - the basis for joins\n",
        "\n",
        "As in Pig, joins are done performing \"co-groups\" where multiple data sets are grouped by the same key"
      ]
    },
    {
      "cell_type": "code",
      "execution_count": 54,
      "metadata": {
        "jupyter": {
          "outputs_hidden": false
        },
        "id": "UCPoTDLB-6tw",
        "outputId": "e419613b-5d37-4419-f356-c561fa40bfd3",
        "colab": {
          "base_uri": "https://localhost:8080/"
        }
      },
      "outputs": [
        {
          "output_type": "execute_result",
          "data": {
            "text/plain": [
              "[(1, 2), (2, 3), (1, 99), (3, 44), (2, 1), (4, 5), (3, 19)]"
            ]
          },
          "metadata": {},
          "execution_count": 54
        }
      ],
      "source": [
        "s1 = c\n",
        "s1.collect()"
      ]
    },
    {
      "cell_type": "code",
      "execution_count": 55,
      "metadata": {
        "jupyter": {
          "outputs_hidden": false
        },
        "id": "5580y2CW-6tw",
        "outputId": "0515fc4f-0f63-4d1c-f35d-eb5ef640b062",
        "colab": {
          "base_uri": "https://localhost:8080/"
        }
      },
      "outputs": [
        {
          "output_type": "execute_result",
          "data": {
            "text/plain": [
              "[(2, -99), (4, 199), (19, 23)]"
            ]
          },
          "metadata": {},
          "execution_count": 55
        }
      ],
      "source": [
        "s2 = sc.parallelize( [ (2, -99), ( 4, 199), (19, 23) ] )\n",
        "s2.collect()"
      ]
    },
    {
      "cell_type": "code",
      "execution_count": 56,
      "metadata": {
        "jupyter": {
          "outputs_hidden": false
        },
        "id": "XzWfBA6F-6tw",
        "outputId": "7b3623da-bb0f-4063-8b95-dbcf89b65e64",
        "colab": {
          "base_uri": "https://localhost:8080/"
        }
      },
      "outputs": [
        {
          "output_type": "execute_result",
          "data": {
            "text/plain": [
              "[(4,\n",
              "  (<pyspark.resultiterable.ResultIterable at 0x7fc7a80e6f90>,\n",
              "   <pyspark.resultiterable.ResultIterable at 0x7fc7a7f89c50>)),\n",
              " (1,\n",
              "  (<pyspark.resultiterable.ResultIterable at 0x7fc7a80e6d50>,\n",
              "   <pyspark.resultiterable.ResultIterable at 0x7fc7a80e6f50>)),\n",
              " (2,\n",
              "  (<pyspark.resultiterable.ResultIterable at 0x7fc7a80e6b50>,\n",
              "   <pyspark.resultiterable.ResultIterable at 0x7fc7a80e6990>)),\n",
              " (3,\n",
              "  (<pyspark.resultiterable.ResultIterable at 0x7fc7a80acc10>,\n",
              "   <pyspark.resultiterable.ResultIterable at 0x7fc7a80ac550>)),\n",
              " (19,\n",
              "  (<pyspark.resultiterable.ResultIterable at 0x7fc7a80acc50>,\n",
              "   <pyspark.resultiterable.ResultIterable at 0x7fc7a80ac510>))]"
            ]
          },
          "metadata": {},
          "execution_count": 56
        }
      ],
      "source": [
        "co = s1.cogroup(s2)\n",
        "co.collect()"
      ]
    },
    {
      "cell_type": "markdown",
      "metadata": {
        "id": "uIE_0YTl-6tx"
      },
      "source": [
        "Let's use our \"convert it to a list trick\" to see what's in each cogroup"
      ]
    },
    {
      "cell_type": "code",
      "execution_count": 57,
      "metadata": {
        "id": "IPrhdUCh-6tx",
        "outputId": "3b724af8-dba9-4c95-974a-559f4501856a",
        "colab": {
          "base_uri": "https://localhost:8080/"
        }
      },
      "outputs": [
        {
          "output_type": "execute_result",
          "data": {
            "text/plain": [
              "[(4, [5], [199]),\n",
              " (1, [2, 99], []),\n",
              " (2, [3, 1], [-99]),\n",
              " (3, [44, 19], []),\n",
              " (19, [], [23])]"
            ]
          },
          "metadata": {},
          "execution_count": 57
        }
      ],
      "source": [
        "co.map(lambda x: (x[0], list(x[1][0]), list(x[1][1])) ).collect()"
      ]
    },
    {
      "cell_type": "markdown",
      "metadata": {
        "id": "TFF_M2h0-6tx"
      },
      "source": [
        "This is used to build different kinds of joins"
      ]
    },
    {
      "cell_type": "code",
      "source": [
        "s1.groupByKey().collect()"
      ],
      "metadata": {
        "id": "fnd-0I6uG0pg",
        "outputId": "16bf55c2-efd1-4c2f-cec8-df242fff6dee",
        "colab": {
          "base_uri": "https://localhost:8080/"
        }
      },
      "execution_count": 65,
      "outputs": [
        {
          "output_type": "execute_result",
          "data": {
            "text/plain": [
              "[(2, <pyspark.resultiterable.ResultIterable at 0x7fc7a805c5d0>),\n",
              " (4, <pyspark.resultiterable.ResultIterable at 0x7fc7a805ced0>),\n",
              " (1, <pyspark.resultiterable.ResultIterable at 0x7fc7a805c0d0>),\n",
              " (3, <pyspark.resultiterable.ResultIterable at 0x7fc7a805ca10>)]"
            ]
          },
          "metadata": {},
          "execution_count": 65
        }
      ]
    },
    {
      "cell_type": "code",
      "source": [
        "s2.groupByKey().collect()"
      ],
      "metadata": {
        "id": "uJ0UYI7QG2ji",
        "outputId": "0ca0df16-e826-41fd-cf03-e5bbe359b04d",
        "colab": {
          "base_uri": "https://localhost:8080/"
        }
      },
      "execution_count": 63,
      "outputs": [
        {
          "output_type": "execute_result",
          "data": {
            "text/plain": [
              "[(2, <pyspark.resultiterable.ResultIterable at 0x7fc7a7f95450>),\n",
              " (4, <pyspark.resultiterable.ResultIterable at 0x7fc7a7f95210>),\n",
              " (19, <pyspark.resultiterable.ResultIterable at 0x7fc7a7f7ded0>)]"
            ]
          },
          "metadata": {},
          "execution_count": 63
        }
      ]
    },
    {
      "cell_type": "code",
      "execution_count": 58,
      "metadata": {
        "jupyter": {
          "outputs_hidden": false
        },
        "id": "Qg5yONM9-6tx",
        "outputId": "8c24e347-a377-42ad-ee64-27225a45ae36",
        "colab": {
          "base_uri": "https://localhost:8080/"
        }
      },
      "outputs": [
        {
          "output_type": "execute_result",
          "data": {
            "text/plain": [
              "[(4, (5, 199)), (2, (3, -99)), (2, (1, -99))]"
            ]
          },
          "metadata": {},
          "execution_count": 58
        }
      ],
      "source": [
        "s1.join(s2).collect()"
      ]
    },
    {
      "cell_type": "code",
      "execution_count": 59,
      "metadata": {
        "jupyter": {
          "outputs_hidden": false
        },
        "id": "5aO6G98d-6tx",
        "outputId": "b68e415e-ba21-455d-9921-55bf76708936",
        "colab": {
          "base_uri": "https://localhost:8080/"
        }
      },
      "outputs": [
        {
          "output_type": "execute_result",
          "data": {
            "text/plain": [
              "[(4, (5, 199)),\n",
              " (1, (2, None)),\n",
              " (1, (99, None)),\n",
              " (2, (3, -99)),\n",
              " (2, (1, -99)),\n",
              " (3, (44, None)),\n",
              " (3, (19, None))]"
            ]
          },
          "metadata": {},
          "execution_count": 59
        }
      ],
      "source": [
        "s1.leftOuterJoin(s2).collect()"
      ]
    },
    {
      "cell_type": "code",
      "execution_count": 60,
      "metadata": {
        "jupyter": {
          "outputs_hidden": false
        },
        "id": "Yxar162p-6tx",
        "outputId": "461ef8d9-ec7b-4944-84ab-9def2a3dff33",
        "colab": {
          "base_uri": "https://localhost:8080/"
        }
      },
      "outputs": [
        {
          "output_type": "execute_result",
          "data": {
            "text/plain": [
              "[(4, (5, 199)), (2, (3, -99)), (2, (1, -99)), (19, (None, 23))]"
            ]
          },
          "metadata": {},
          "execution_count": 60
        }
      ],
      "source": [
        "s1.rightOuterJoin(s2).collect()"
      ]
    },
    {
      "cell_type": "code",
      "execution_count": 66,
      "metadata": {
        "jupyter": {
          "outputs_hidden": false
        },
        "id": "Zl5PwoRa-6tx"
      },
      "outputs": [],
      "source": [
        "x = sc.parallelize( [ (\"NY\", 10), (\"OH\", 20), (\"OH\", 99), (\"CO\", 88) ] )\n",
        "y = sc.parallelize( [ (\"NY\", 30), (\"CO\", 40), (\"NY\", 22 )] )"
      ]
    },
    {
      "cell_type": "code",
      "execution_count": 67,
      "metadata": {
        "jupyter": {
          "outputs_hidden": false
        },
        "id": "0WTNbaAs-6ty",
        "outputId": "b96f9644-527a-49db-eb2f-a3fd4be984bc",
        "colab": {
          "base_uri": "https://localhost:8080/"
        }
      },
      "outputs": [
        {
          "output_type": "execute_result",
          "data": {
            "text/plain": [
              "[('NY', (10, 30)), ('NY', (10, 22)), ('CO', (88, 40))]"
            ]
          },
          "metadata": {},
          "execution_count": 67
        }
      ],
      "source": [
        "x.join(y).collect()"
      ]
    },
    {
      "cell_type": "code",
      "execution_count": 68,
      "metadata": {
        "jupyter": {
          "outputs_hidden": false
        },
        "id": "51tBaYBX-6ty",
        "outputId": "0d416a53-37a8-4735-ddad-27fd6a649d21",
        "colab": {
          "base_uri": "https://localhost:8080/"
        }
      },
      "outputs": [
        {
          "output_type": "execute_result",
          "data": {
            "text/plain": [
              "[('NY', 10), ('NY', 30), ('NY', 10), ('NY', 22), ('CO', 88), ('CO', 40)]"
            ]
          },
          "metadata": {},
          "execution_count": 68
        }
      ],
      "source": [
        "x.join(y).flatMap(lambda kv: ((kv[0],x) for x in kv[1])).collect()"
      ]
    },
    {
      "cell_type": "code",
      "execution_count": 69,
      "metadata": {
        "jupyter": {
          "outputs_hidden": false
        },
        "id": "QCX2ze30-6ty",
        "outputId": "35bd8ca8-2985-4a7a-c87e-a0504120ad33",
        "colab": {
          "base_uri": "https://localhost:8080/"
        }
      },
      "outputs": [
        {
          "output_type": "execute_result",
          "data": {
            "text/plain": [
              "[('OH',\n",
              "  (<pyspark.resultiterable.ResultIterable at 0x7fc7a7f95090>,\n",
              "   <pyspark.resultiterable.ResultIterable at 0x7fc7a7f95650>)),\n",
              " ('NY',\n",
              "  (<pyspark.resultiterable.ResultIterable at 0x7fc7a7f95510>,\n",
              "   <pyspark.resultiterable.ResultIterable at 0x7fc7a7f95610>)),\n",
              " ('CO',\n",
              "  (<pyspark.resultiterable.ResultIterable at 0x7fc7a809fbd0>,\n",
              "   <pyspark.resultiterable.ResultIterable at 0x7fc7a809f790>))]"
            ]
          },
          "metadata": {},
          "execution_count": 69
        }
      ],
      "source": [
        "x.cogroup(y).collect()"
      ]
    },
    {
      "cell_type": "code",
      "execution_count": 70,
      "metadata": {
        "jupyter": {
          "outputs_hidden": false
        },
        "id": "uDwLR5xJ-6ty",
        "outputId": "a47706d1-f0e5-4117-cf0c-41e7b38c7cc1",
        "colab": {
          "base_uri": "https://localhost:8080/"
        }
      },
      "outputs": [
        {
          "output_type": "execute_result",
          "data": {
            "text/plain": [
              "[('NY', 10, 30), ('NY', 10, 22), ('CO', 88, 40)]"
            ]
          },
          "metadata": {},
          "execution_count": 70
        }
      ],
      "source": [
        "x.cogroup(y).flatMap(lambda kv: ((kv[0],x,y) for x in kv[1][0] for y in kv[1][1])).collect()"
      ]
    }
  ],
  "metadata": {
    "kernelspec": {
      "display_name": "Python 3 (ipykernel)",
      "language": "python",
      "name": "python3"
    },
    "language_info": {
      "codemirror_mode": {
        "name": "ipython",
        "version": 3
      },
      "file_extension": ".py",
      "mimetype": "text/x-python",
      "name": "python",
      "nbconvert_exporter": "python",
      "pygments_lexer": "ipython3",
      "version": "3.9.6"
    },
    "colab": {
      "provenance": []
    }
  },
  "nbformat": 4,
  "nbformat_minor": 0
}